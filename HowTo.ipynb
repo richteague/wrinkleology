{
 "cells": [
  {
   "cell_type": "markdown",
   "metadata": {},
   "source": [
    "# The `simple_disk` Class\n",
    "\n",
    "This Notebook will work through the functions available with the `simple_disk` class."
   ]
  },
  {
   "cell_type": "code",
   "execution_count": 1,
   "metadata": {},
   "outputs": [],
   "source": [
    "# Prep the Notebook\n",
    "%matplotlib inline\n",
    "import numpy as np\n",
    "import matplotlib.pyplot as plt\n",
    "from matplotlib.ticker import MultipleLocator\n",
    "from mpl_toolkits.axes_grid1 import make_axes_locatable"
   ]
  },
  {
   "cell_type": "markdown",
   "metadata": {},
   "source": [
    "## Instantiation\n",
    "\n",
    "To start a model, simply provide the inclination, `inc`, and position angle `PA`. The position angle is measured as the angle between the red-shifted major axis and North. Both of these are given in degrees. Note that in the current implementation, only positive inclinations are allowed."
   ]
  },
  {
   "cell_type": "code",
   "execution_count": 2,
   "metadata": {},
   "outputs": [],
   "source": [
    "from simple_disk import simple_disk\n",
    "disk = simple_disk(inc=30.0, PA=70.0)"
   ]
  },
  {
   "cell_type": "markdown",
   "metadata": {},
   "source": [
    "## Coordinate Systems\n",
    "\n",
    "We have two coordinate systems, the sky-frame and disk-frame. The number of pixels you have along each dimension is given by the `Npix` argument when intitialising `simple_disk`, while the field of view, `FOV`, and source distance, `dist`, parameters will dictate the size of the image.\n",
    "\n",
    "### Disk-Plane Coordinates\n",
    "\n",
    "In a similar fashion to the sky-frame coordinates, the disk-frame coordaintes are accessed by,\n",
    "\n",
    "```python\n",
    "x = disk.x_disk\n",
    "y = disk.y_disk\n",
    "```\n",
    "\n",
    "with associated axes,\n",
    "\n",
    "```python\n",
    "xaxis = disk.xaxis_disk\n",
    "yaxis = disk.yaxis_disk\n",
    "```\n",
    "\n",
    "and for `imshow` plotting,\n",
    "\n",
    "```python\n",
    "extent = disk.extent_disk\n",
    "```"
   ]
  },
  {
   "cell_type": "code",
   "execution_count": 6,
   "metadata": {},
   "outputs": [
    {
     "data": {
      "image/png": "[encoded data removed]",
      "text/plain": [
       "<Figure size 720x216 with 4 Axes>"
      ]
     },
     "metadata": {
      "needs_background": "light"
     },
     "output_type": "display_data"
    }
   ],
   "source": [
    "fig, axs = plt.subplots(ncols=2, figsize=(10, 3))\n",
    " \n",
    "ax = axs[0]  # Plot the x-axis offset.\n",
    "im = ax.imshow(disk.x_disk, origin='lower', extent=disk.extent_disk)\n",
    "disk.format_disk_plot(ax)\n",
    "cb = plt.colorbar(im, ax=ax, pad=0.02)\n",
    "cb.set_label('X-Offset (arcsec)', rotation=270, labelpad=13)\n",
    "\n",
    "ax = axs[1]  # Plot the y-axis offset.\n",
    "im = ax.imshow(disk.y_disk, origin='lower', extent=disk.extent_disk)\n",
    "disk.format_disk_plot(ax)\n",
    "cb = plt.colorbar(im, ax=ax, pad=0.02)\n",
    "cb.set_label('Y-Offset (arcsec)', rotation=270, labelpad=13)\n",
    "\n",
    "plt.tight_layout()"
   ]
  },
  {
   "cell_type": "markdown",
   "metadata": {},
   "source": [
    "### Sky-Plane Coordinates\n",
    "\n",
    "The on-sky pixel coordinates are accessed by:\n",
    "\n",
    "```python\n",
    "x = disk.x_sky\n",
    "y = disk.y_sky\n",
    "```\n",
    "\n",
    "Both of these are two-dimensional arrays with the pixel values. If you need the axes for plotting then you can use:\n",
    "\n",
    "```python\n",
    "xaxis = disk.xaxis_sky\n",
    "yaxis = disk.yaxis_sky\n",
    "```\n",
    "\n",
    "If you're using `imshow`, you can also access the extent through\n",
    "\n",
    "```python\n",
    "extent = disk.extent_sky\n",
    "```\n",
    "\n",
    "**Note:** When plotting, you'll need to flip the x-axis to account for the on-sky projection."
   ]
  },
  {
   "cell_type": "code",
   "execution_count": 7,
   "metadata": {},
   "outputs": [
    {
     "data": {
      "image/png": "[encoded data removed]",
      "text/plain": [
       "<Figure size 720x216 with 4 Axes>"
      ]
     },
     "metadata": {
      "needs_background": "light"
     },
     "output_type": "display_data"
    }
   ],
   "source": [
    "fig, axs = plt.subplots(ncols=2, figsize=(10, 3))\n",
    " \n",
    "ax = axs[0]  # Plot the x-axis offset.\n",
    "im = ax.imshow(disk.x_sky, origin='lower', extent=disk.extent_sky)\n",
    "disk.format_sky_plot(ax)\n",
    "cb = plt.colorbar(im, ax=ax, pad=0.02)\n",
    "cb.set_label('X-Offset [arcsec]', rotation=270, labelpad=13)\n",
    "\n",
    "ax = axs[1]  # Plot the y-axis offset.\n",
    "im = ax.imshow(disk.y_sky, origin='lower', extent=disk.extent_sky)\n",
    "disk.format_sky_plot(ax)\n",
    "cb = plt.colorbar(im, ax=ax, pad=0.02)\n",
    "cb.set_label('Y-Offset [arcsec]', rotation=270, labelpad=13)\n",
    "\n",
    "plt.tight_layout()"
   ]
  },
  {
   "cell_type": "markdown",
   "metadata": {},
   "source": [
    "### Polar Coordinates\n",
    "\n",
    "Both sky- and disk-frame coordinates have associated polar coordiantes, `disk.r_*` and `disk.t_*`, where the polar angles are in radians, and the radial coordiantes are in arcseconds for sky-frame and au for disk frame."
   ]
  },
  {
   "cell_type": "markdown",
   "metadata": {},
   "source": [
    "\n",
    "## Defining Velocity Fields\n",
    "\n",
    "### Keplerian Rotation\n",
    "\n",
    "Something about background Keplerian rotation stored in `disk.vkep`.\n",
    "\n",
    "### Localized Perturbations\n",
    "\n",
    "Something about the Gaussian perturbations.\n",
    "\n",
    "### Building Your Own\n",
    "\n",
    "Build you own perturbations.\n",
    "\n",
    "\n",
    "## Making Pseudo-Images\n",
    "\n",
    "In this section we describe how to made pseudo images, both as channel maps or cubes.\n",
    "\n",
    "### Line Profiles\n",
    "\n",
    "For simplicity we assume that the emission distribution which is made up of Gaussian profiles,\n",
    "\n",
    "$$\n",
    "I_{\\nu} = T_{\\rm B} \\times \\exp \\left[ -\\left( \\frac{v - v_0}{\\Delta v} \\right)^2 \\right] \n",
    "$$\n",
    "\n",
    "\n",
    "The line center, `v0`, is govenered by the projected velocity field and the line peak and width are described by simple radial power laws of the form,\n",
    "\n",
    "$$\n",
    "T_{\\rm B} = T_{{\\rm B},\\,0} \\times \\left( \\frac{r}{100~{\\rm au}} \\right)^{q_{T_{\\rm B}}}\n",
    "\\quad \\text{and} \\quad\n",
    "\\Delta v(r) = \\Delta v_0 \\times \\left( \\frac{r}{100~{\\rm au}} \\right)^{q_{\\Delta v}}\n",
    "$$\n",
    "\n",
    "**Note:** For the linewidth we use the Doppler width, not the FWHM or standard deviation of the Gaussian."
   ]
  },
  {
   "cell_type": "code",
   "execution_count": null,
   "metadata": {},
   "outputs": [],
   "source": [
    "# set the brightness temperature profile\n",
    "disk.set_brightness(Tb0=20.0, Tbq=-0.5)\n",
    "disk.plot_brightness()"
   ]
  },
  {
   "cell_type": "code",
   "execution_count": null,
   "metadata": {},
   "outputs": [],
   "source": [
    "# set the doppler width profile\n",
    "disk.set_linewidth(dV0=150.0, dVq=-0.3)\n",
    "disk.plot_linewidth()"
   ]
  },
  {
   "cell_type": "markdown",
   "metadata": {},
   "source": [
    "### Making a Channel Map\n",
    "\n",
    "Generating a channel map is done through the `disk.get_channel()` function. By default this requires the minimum and maximum velocity of the channel, `vmin` and `vmax`in m/s. The velocity field is assumed to be Keplerian, `disk.vkep`, unless any perturbations are included using the `dv0` argument.\n",
    "\n",
    "As we have assumed a Gaussian line, integration over the profile is a simple analytical process,\n",
    "\n",
    "$$\n",
    "I_{\\nu,\\, {\\rm chan}} = \\frac{\\sqrt{\\pi} \\, T_{\\rm B}\\, \\Delta V}{2 (v_{\\rm max} - v_{\\rm min})} \\left[ {\\rm erf}\\left( \\frac{v_{\\rm max} - v_0}{\\Delta V} \\right) - {\\rm erf}\\left( \\frac{v_{\\rm min} - v_0}{\\Delta V} \\right) \\right]\n",
    "$$\n",
    "\n",
    "where $T_{\\rm B}$ and $\\Delta V$ are evaluated at the deprojected disk-frame coordinate."
   ]
  },
  {
   "cell_type": "code",
   "execution_count": null,
   "metadata": {},
   "outputs": [],
   "source": [
    "fig, ax = plt.subplots()\n",
    "im = ax.imshow(disk.get_channel(v_min=100., v_max=300.), origin='lower', extent=disk.extent_sky)\n",
    "disk.format_sky_plot(ax)\n",
    "\n",
    "cb = plt.colorbar(im, pad=0.02)\n",
    "cb.set_label('Brightness Temperature [K]', rotation=270, labelpad=13)"
   ]
  },
  {
   "cell_type": "markdown",
   "metadata": {},
   "source": [
    "### Making a Data Cube\n",
    "\n",
    "If you want instead to make an entire cube, you can use the `disk.get_cube()` function. Rather than requiring the `vmin` and `vmax` values, we require an array of channel centers, `velax`, in m/s. It is assumed that all channel are equally spaced in velocity.\n",
    "\n",
    "### Simulating Observations\n",
    "\n",
    "It is sometimes useful to include imaging artifacts in the data for a quick comparion.\n",
    "\n",
    "**Note:** None of these effects will account for the spatial filtering which happens when using an interferometer."
   ]
  },
  {
   "cell_type": "code",
   "execution_count": null,
   "metadata": {},
   "outputs": [],
   "source": [
    "# make a flat 2D disk based on HD 163296.\n",
    "disk = simple_disk(inc=30.0, PA=0.0)\n",
    "\n",
    "\n",
    "dv0 = disk._azimuthal_perturbation(100., 100., 0.0, 10., 10.0)\n",
    "\n",
    "fig, ax = plt.subplots()\n",
    "im = ax.imshow(dv0, origin='lower', extent=disk.extent_disk, cmap=BuRd)\n",
    "cax = make_axes_locatable(ax).append_axes('top', size='6%', pad=0.05)\n",
    "cb = plt.colorbar(im, cax=cax, orientation='horizontal')\n",
    "cb.set_label(r'$\\delta v_{\\phi} \\quad [{\\rm m\\,s^{-1}}]$')\n",
    "cax.xaxis.set_label_position('top')\n",
    "cax.xaxis.set_ticks_position('top')\n",
    "\n",
    "\n",
    "dv0 = disk._azimuthal_perturbation(100., 100., 0.0, 10., 10.0)\n",
    "\n",
    "fig, ax = plt.subplots()\n",
    "im = ax.imshow(disk.vkep, origin='lower', extent=disk.extent_sky, cmap=BuRd)\n",
    "cax = make_axes_locatable(ax).append_axes('top', size='6%', pad=0.05)\n",
    "cb = plt.colorbar(im, cax=cax, orientation='horizontal')\n",
    "cb.set_label(r'$\\delta v_{\\phi} \\quad [{\\rm m\\,s^{-1}}]$')\n",
    "cax.xaxis.set_label_position('top')\n",
    "cax.xaxis.set_ticks_position('top')\n",
    "ax.set_xlim(ax.get_xlim()[1], ax.get_xlim()[0])"
   ]
  },
  {
   "cell_type": "markdown",
   "metadata": {},
   "source": [
    "## Working Notes\n",
    "\n",
    "* Define `PA` as angle between redshifted major axis and north. Increasing `PA` will rotate disk anti-clockwise in the sky frame.\n",
    "\n",
    "* Define `t0` as the angle measured from the positive x-axis in an anti-clockwise direction in the disk frame.\n",
    "\n",
    "* How does `t0 = 0` relate to `PA`?"
   ]
  },
  {
   "cell_type": "markdown",
   "metadata": {},
   "source": [
    "#### Nicer colormap"
   ]
  },
  {
   "cell_type": "code",
   "execution_count": null,
   "metadata": {},
   "outputs": [],
   "source": [
    "import matplotlib.pyplot as plt\n",
    "import matplotlib.colors as mcolors\n",
    "c2 = plt.cm.Reds(np.linspace(0, 1, 32))\n",
    "c1 = plt.cm.Blues_r(np.linspace(0, 1, 32))\n",
    "colors = np.vstack((c1, np.ones(4), c2))\n",
    "BuRd = mcolors.LinearSegmentedColormap.from_list('eddymap', colors)\n",
    "RdBu = mcolors.LinearSegmentedColormap.from_list('eddymap', colors[::-1])"
   ]
  },
  {
   "cell_type": "code",
   "execution_count": null,
   "metadata": {},
   "outputs": [],
   "source": [
    "# make a flat 2D disk based on HD 163296.\n",
    "disk = simple_disk(inc=47.9-10., PA=312., Tb0=30.0, Tbq=-0.5, Npix=400)"
   ]
  },
  {
   "cell_type": "code",
   "execution_count": null,
   "metadata": {},
   "outputs": [],
   "source": [
    "# doppler flip comparison.\n",
    "\n",
    "v = 300.   # velocity of the perturbations in [m/s]\n",
    "r0 = 100.  # radius of flip center in [au]\n",
    "t0 = 70.    # polar angle of flip center in [deg]\n",
    "dr = 10.   # radial width in [au]\n",
    "dt = 20.   # arc length of flip in [au]\n",
    "\n",
    "dr0 = 1.0 # radial separation of flip components as fraction of `dr`\n",
    "dt0 = 1.0 # azimuthal separation of flip components as fraction of `dt`\n",
    "\n",
    "# make the figure \n",
    "\n",
    "fig, axs = plt.subplots(ncols=4, figsize=(8, 3), gridspec_kw=dict(width_ratios=(1, 0.5, 1, 1), wspace=0.05))\n",
    "\n",
    "# in the disk plane\n",
    "ax = axs[0]\n",
    "ax.scatter(0, 0, marker='x', color='0.7', lw=1.0, s=4)\n",
    "\n",
    "dv0 = disk.doppler_flip(v, r0, t0, dr, dt, sky=False)\n",
    "\n",
    "toplot = np.where(abs(dv0) > 1.0, dv0, np.nan)\n",
    "vmax = np.nanmax(abs(toplot))\n",
    "\n",
    "im = ax.imshow(toplot, origin='lower', vmin=-vmax, vmax=vmax, extent=disk.extent_disk, cmap=RdBu)\n",
    "cax = make_axes_locatable(ax).append_axes('top', size='6%', pad=0.05)\n",
    "cb = plt.colorbar(im, cax=cax, orientation='horizontal')\n",
    "cb.set_label(r'$\\delta v_{\\phi} \\quad [{\\rm m\\,s^{-1}}]$')\n",
    "cax.xaxis.set_label_position('top')\n",
    "cax.xaxis.set_ticks_position('top')\n",
    "ax.contour(disk.xaxis_disk, disk.yaxis_disk, disk.r_disk, [r0], linestyles=':', linewidths=1.0, colors='0.7', zorder=-1)\n",
    "ax.xaxis.set_major_locator(MultipleLocator(100))\n",
    "ax.yaxis.set_major_locator(MultipleLocator(100))\n",
    "ax.set_xlabel('Offset [au]')\n",
    "ax.set_ylabel('Offset [au]')\n",
    "ax.set_title('Disk Midplane', fontsize=7)\n",
    "\n",
    "axs[1].axis('off')\n",
    "\n",
    "# projected deviation\n",
    "dv0 = disk.doppler_flip(v, r0, t0, dr, dt, sky=True)\n",
    "dv0 += disk.radial_doppler_flip(v, r0, t0, dr, dt, sky=True)\n",
    "\n",
    "ax = axs[2]\n",
    "ax.scatter(0, 0, marker='x', color='0.7', lw=1.0, s=4)\n",
    "\n",
    "toplot = np.where(abs(dv0) > 1.0, dv0, np.nan)\n",
    "vmax = np.nanmax(abs(toplot))\n",
    "im = ax.imshow(toplot, origin='lower', vmin=-vmax, vmax=vmax, extent=disk.extent_sky, cmap=RdBu)\n",
    "cax = make_axes_locatable(ax).append_axes('top', size='6%', pad=0.05)\n",
    "cb = plt.colorbar(im, cax=cax, orientation='horizontal')\n",
    "cb.set_label(r'$v_0 - v_{\\rm kep} \\quad [{\\rm m\\,s^{-1}}]$')\n",
    "cax.xaxis.set_label_position('top')\n",
    "cax.xaxis.set_ticks_position('top')\n",
    "ax.contour(disk.xaxis_sky, disk.yaxis_sky, disk.r_sky, [r0], linestyles=':', linewidths=1.0, colors='0.7', zorder=-1)\n",
    "ax.xaxis.set_major_locator(MultipleLocator(1))\n",
    "ax.yaxis.set_major_locator(MultipleLocator(1))\n",
    "ax.set_xlim(ax.get_xlim()[1], ax.get_xlim()[0])\n",
    "ax.set_xlabel('Offset [au]')\n",
    "ax.set_ylabel('Offset [au]')\n",
    "ax.set_title('On-Sky Projection', fontsize=7)\n",
    "\n",
    "# channel map deviation\n",
    "\n",
    "dV = 100.\n",
    "temp = np.where(abs(disk.r_sky - r0) > 0.1, 1e10, disk.t_sky)\n",
    "yidx, xidx = np.unravel_index(abs(temp - t0).argmin(), temp.shape)\n",
    "yidx, xidx = np.unravel_index(abs(dv0).argmax(), temp.shape)\n",
    "v_min = disk.vkep[yidx, xidx] - 0.5 * dV\n",
    "v_max = disk.vkep[yidx, xidx] + 0.5 * dV\n",
    "\n",
    "ax = axs[3]\n",
    "ax.scatter(0, 0, marker='x', color='1.0', lw=1.0, s=4)\n",
    "channel = disk.get_channel(dv0=dv0, v_min=v_min, v_max=v_max)\n",
    "im = ax.imshow(channel, origin='lower', vmin=0, vmax=50, extent=disk.extent_sky, cmap='inferno')\n",
    "cax = make_axes_locatable(ax).append_axes('top', size='6%', pad=0.05)\n",
    "cb = plt.colorbar(im, cax=cax, orientation='horizontal')\n",
    "cb.set_label(r'$T_{\\rm B} \\quad [{\\rm K}]$')\n",
    "cax.xaxis.set_label_position('top')\n",
    "cax.xaxis.set_ticks_position('top')\n",
    "\n",
    "ax.contour(disk.xaxis_sky, disk.yaxis_sky, np.where(channel > np.percentile(channel, [60]), np.nan, disk.r_sky), [r0],\n",
    "           linestyles=':', linewidths=1.0, colors='1.0')\n",
    "ax.xaxis.set_major_locator(MultipleLocator(1))\n",
    "ax.yaxis.set_major_locator(MultipleLocator(1))\n",
    "ax.set_xlim(ax.get_xlim()[1], ax.get_xlim()[0])\n",
    "ax.set_xlabel('Offset [au]')\n",
    "ax.set_yticklabels([])\n",
    "ax.set_title('Representitive Channel', fontsize=7)\n",
    "\n",
    "#plt.tight_layout()\n",
    "#plt.savefig('dopplerflip_comparison.pdf', bbox_inches='tight', dpi=300)"
   ]
  },
  {
   "cell_type": "code",
   "execution_count": null,
   "metadata": {},
   "outputs": [],
   "source": [
    "np.diff(disk.x_sky).mean()"
   ]
  },
  {
   "cell_type": "code",
   "execution_count": null,
   "metadata": {},
   "outputs": [],
   "source": []
  }
 ],
 "metadata": {
  "kernelspec": {
   "display_name": "Python 3",
   "language": "python",
   "name": "python3"
  },
  "language_info": {
   "codemirror_mode": {
    "name": "ipython",
    "version": 3
   },
   "file_extension": ".py",
   "mimetype": "text/x-python",
   "name": "python",
   "nbconvert_exporter": "python",
   "pygments_lexer": "ipython3",
   "version": "3.7.3"
  }
 },
 "nbformat": 4,
 "nbformat_minor": 2
}
